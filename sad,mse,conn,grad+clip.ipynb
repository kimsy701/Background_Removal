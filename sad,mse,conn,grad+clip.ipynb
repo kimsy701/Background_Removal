{
  "nbformat": 4,
  "nbformat_minor": 0,
  "metadata": {
    "colab": {
      "provenance": []
    },
    "kernelspec": {
      "name": "python3",
      "display_name": "Python 3"
    },
    "language_info": {
      "name": "python"
    }
  },
  "cells": [
    {
      "cell_type": "markdown",
      "source": [
        "#이미지 증강"
      ],
      "metadata": {
        "id": "2xLeOaygVGdb"
      }
    },
    {
      "cell_type": "code",
      "source": [
        "#flip #rotate"
      ],
      "metadata": {
        "id": "bUP_UfRxVCpw"
      },
      "execution_count": null,
      "outputs": []
    },
    {
      "cell_type": "markdown",
      "source": [
        "#성능지표 (SAD, MSE, MAD, Gradient, Connectivity)"
      ],
      "metadata": {
        "id": "H0tWnlBvVDoJ"
      }
    },
    {
      "cell_type": "code",
      "source": [
        "from google.colab import drive\n",
        "drive.mount('/content/drive')\n"
      ],
      "metadata": {
        "colab": {
          "base_uri": "https://localhost:8080/"
        },
        "id": "BP2qmP1JSXho",
        "outputId": "660084b4-0d2f-42bf-ce0f-1e75951e61ed"
      },
      "execution_count": null,
      "outputs": [
        {
          "output_type": "stream",
          "name": "stdout",
          "text": [
            "Mounted at /content/drive\n"
          ]
        }
      ]
    },
    {
      "cell_type": "code",
      "execution_count": null,
      "metadata": {
        "id": "jr-iYFK4IAGP"
      },
      "outputs": [],
      "source": [
        "#2차원 값으로 구성된 이미지들간의 차이\n",
        "\n",
        "\"\"\"\n",
        "Bridging Composite and Real: Towards End-to-end Deep Image Matting [IJCV-2021]\n",
        "Evaluation files for training and testing.\n",
        "\n",
        "Copyright (c) 2021, Jizhizi Li (jili8515@uni.sydney.edu.au)\n",
        "Licensed under the MIT License (see LICENSE for details)\n",
        "Github repo: https://github.com/JizhiziLi/GFM\n",
        "Paper link (Arxiv): https://arxiv.org/abs/2010.16188\n",
        "\n",
        "\"\"\"\n",
        "\n",
        "import numpy as np\n",
        "import torch\n",
        "import torch.nn as nn\n",
        "import math\n",
        "from torch.autograd import Variable\n",
        "import torch.nn.functional as fnn\n",
        "\n",
        "##########################\n",
        "### 성능평가지표: SAD, MSE, Gradient, Connectivity\n",
        "###code from https://github.com/JizhiziLi/GFM/blob/master/core/evaluate.py\n",
        "##########################\n",
        "\n",
        "\"\"\"\n",
        "def calculate_sad_mse_mad(predict_old,alpha,trimap):\n",
        "\tpredict = np.copy(predict_old)\n",
        "\tpixel = float((trimap == 128).sum())\n",
        "\tpredict[trimap == 255] = 1.\n",
        "\tpredict[trimap == 0  ] = 0.\n",
        "\tsad_diff = np.sum(np.abs(predict - alpha))/1000\n",
        "\tif pixel==0:\n",
        "\t\tpixel = trimap.shape[0]*trimap.shape[1]-float((trimap==255).sum())-float((trimap==0).sum())\n",
        "\tmse_diff = np.sum((predict - alpha) ** 2)/pixel\n",
        "\tmad_diff = np.sum(np.abs(predict - alpha))/pixel\n",
        "\treturn sad_diff, mse_diff, mad_diff\n",
        "\t\"\"\"\n",
        "\"\"\"\n",
        "def calculate_sad_mse_mad_whole_img(predict, alpha):\n",
        "\tpixel = predict.shape[0]*predict.shape[1]\n",
        "\tsad_diff = np.sum(np.abs(predict - alpha))/1000\n",
        "\tmse_diff = np.sum((predict - alpha) ** 2)/pixel\n",
        "\tmad_diff = np.sum(np.abs(predict - alpha))/pixel\n",
        "\treturn sad_diff, mse_diff, mad_diff\n",
        "\"\"\"\n",
        "\n",
        "def calculate_sad_mse_mad_whole_img(predict, gt):\n",
        "\tpixel = predict.shape[0]*predict.shape[1]\n",
        "\tsad_diff = np.sum(np.abs(predict - gt))/1000\n",
        "\tmse_diff = np.sum((predict - gt) ** 2)/pixel\n",
        "\tmad_diff = np.sum(np.abs(predict - gt))/pixel\n",
        "\treturn sad_diff, mse_diff, mad_diff\n",
        "\n",
        "\"\"\"\n",
        "def calculate_sad_fgbg(predict, alpha, trimap):\n",
        "\tsad_diff = np.abs(predict-alpha)\n",
        "\tweight_fg = np.zeros(predict.shape)\n",
        "\tweight_bg = np.zeros(predict.shape)\n",
        "\tweight_trimap = np.zeros(predict.shape)\n",
        "\tweight_fg[trimap==255] = 1.\n",
        "\tweight_bg[trimap==0  ] = 1.\n",
        "\tweight_trimap[trimap==128  ] = 1.\n",
        "\tsad_fg = np.sum(sad_diff*weight_fg)/1000\n",
        "\tsad_bg = np.sum(sad_diff*weight_bg)/1000\n",
        "\tsad_trimap = np.sum(sad_diff*weight_trimap)/1000\n",
        "\treturn sad_fg, sad_bg\n",
        "\t\"\"\"\n",
        "\n",
        "def compute_gradient_whole_image(pd, gt):\n",
        "\tfrom scipy.ndimage import gaussian_filter\n",
        "\n",
        "\tpd_x = gaussian_filter(pd, sigma=1.4, order=[1, 0], output=np.float32)\n",
        "\tpd_y = gaussian_filter(pd, sigma=1.4, order=[0, 1], output=np.float32)\n",
        "\tgt_x = gaussian_filter(gt, sigma=1.4, order=[1, 0], output=np.float32)\n",
        "\tgt_y = gaussian_filter(gt, sigma=1.4, order=[0, 1], output=np.float32)\n",
        "\tpd_mag = np.sqrt(pd_x**2 + pd_y**2)\n",
        "\tgt_mag = np.sqrt(gt_x**2 + gt_y**2)\n",
        "\n",
        "\terror_map = np.square(pd_mag - gt_mag)\n",
        "\tloss = np.sum(error_map) / 10\n",
        "\treturn loss\n",
        "\n",
        "def compute_connectivity_loss_whole_image(pd, gt, step=0.1):\n",
        "\tfrom scipy.ndimage import morphology\n",
        "\tfrom skimage.measure import label, regionprops\n",
        "\th, w = pd.shape\n",
        "\tthresh_steps = np.arange(0, 1.1, step)\n",
        "\tl_map = -1 * np.ones((h, w), dtype=np.float32)\n",
        "\tlambda_map = np.ones((h, w), dtype=np.float32)\n",
        "\tfor i in range(1, thresh_steps.size):\n",
        "\t\tpd_th = pd >= thresh_steps[i]\n",
        "\t\tgt_th = gt >= thresh_steps[i]\n",
        "\t\tlabel_image = label(pd_th & gt_th, connectivity=1)\n",
        "\t\tcc = regionprops(label_image)\n",
        "\t\tsize_vec = np.array([c.area for c in cc])\n",
        "\t\tif len(size_vec) == 0:\n",
        "\t\t\tcontinue\n",
        "\t\tmax_id = np.argmax(size_vec)\n",
        "\t\tcoords = cc[max_id].coords\n",
        "\t\tomega = np.zeros((h, w), dtype=np.float32)\n",
        "\t\tomega[coords[:, 0], coords[:, 1]] = 1\n",
        "\t\tflag = (l_map == -1) & (omega == 0)\n",
        "\t\tl_map[flag == 1] = thresh_steps[i-1]\n",
        "\t\tdist_maps = morphology.distance_transform_edt(omega==0)\n",
        "\t\tdist_maps = dist_maps / dist_maps.max()\n",
        "\tl_map[l_map == -1] = 1\n",
        "\td_pd = pd - l_map\n",
        "\td_gt = gt - l_map\n",
        "\tphi_pd = 1 - d_pd * (d_pd >= 0.15).astype(np.float32)\n",
        "\tphi_gt = 1 - d_gt * (d_gt >= 0.15).astype(np.float32)\n",
        "\tloss = np.sum(np.abs(phi_pd - phi_gt)) / 1000\n",
        "\treturn loss"
      ]
    },
    {
      "cell_type": "code",
      "source": [
        "#4차원 값으로 구성된 이미지들(R,G,B,alpha channel)간의 차이\n",
        "\n",
        "\"\"\"\n",
        "Bridging Composite and Real: Towards End-to-end Deep Image Matting [IJCV-2021]\n",
        "Evaluation files for training and testing.\n",
        "\n",
        "Copyright (c) 2021, Jizhizi Li (jili8515@uni.sydney.edu.au)\n",
        "Licensed under the MIT License (see LICENSE for details)\n",
        "Github repo: https://github.com/JizhiziLi/GFM\n",
        "Paper link (Arxiv): https://arxiv.org/abs/2010.16188\n",
        "\n",
        "\"\"\"\n",
        "\n",
        "import numpy as np\n",
        "import torch\n",
        "import torch.nn as nn\n",
        "import math\n",
        "from torch.autograd import Variable\n",
        "import torch.nn.functional as fnn\n",
        "\n",
        "##########################\n",
        "### 성능평가지표: SAD, MSE, Gradient, Connectivity\n",
        "###code from https://github.com/JizhiziLi/GFM/blob/master/core/evaluate.py\n",
        "##########################\n",
        "\n",
        "\"\"\"\n",
        "def calculate_sad_mse_mad(predict_old,alpha,trimap):\n",
        "\tpredict = np.copy(predict_old)\n",
        "\tpixel = float((trimap == 128).sum())\n",
        "\tpredict[trimap == 255] = 1.\n",
        "\tpredict[trimap == 0  ] = 0.\n",
        "\tsad_diff = np.sum(np.abs(predict - alpha))/1000\n",
        "\tif pixel==0:\n",
        "\t\tpixel = trimap.shape[0]*trimap.shape[1]-float((trimap==255).sum())-float((trimap==0).sum())\n",
        "\tmse_diff = np.sum((predict - alpha) ** 2)/pixel\n",
        "\tmad_diff = np.sum(np.abs(predict - alpha))/pixel\n",
        "\treturn sad_diff, mse_diff, mad_diff\n",
        "\t\"\"\"\n",
        "\"\"\"\n",
        "def calculate_sad_mse_mad_whole_img(predict, alpha):\n",
        "\tpixel = predict.shape[0]*predict.shape[1]\n",
        "\tsad_diff = np.sum(np.abs(predict - alpha))/1000\n",
        "\tmse_diff = np.sum((predict - alpha) ** 2)/pixel\n",
        "\tmad_diff = np.sum(np.abs(predict - alpha))/pixel\n",
        "\treturn sad_diff, mse_diff, mad_diff\n",
        "\"\"\"\n",
        "\n",
        "def calculate_sad_mse_mad_whole_img(predict, gt):\n",
        "    pixel = predict.shape[0] * predict.shape[1]\n",
        "    sad_diff = np.sum(np.abs(predict[:, :, :3] - gt[:, :, :3])) / 1000  # Consider only RGB channels for SAD calculation\n",
        "    mse_diff = np.sum((predict[:, :, :3] - gt[:, :, :3]) ** 2) / pixel\n",
        "    mad_diff = np.sum(np.abs(predict[:, :, :3] - gt[:, :, :3])) / pixel\n",
        "    return sad_diff, mse_diff, mad_diff\n",
        "\n",
        "def compute_gradient_whole_image(pd, gt):\n",
        "    from scipy.ndimage import gaussian_filter\n",
        "    \"\"\"\n",
        "    pd_x = gaussian_filter(pd[:, :, :3], sigma=1.4, order=[1, 0], output=np.float32)\n",
        "    pd_y = gaussian_filter(pd[:, :, :3], sigma=1.4, order=[0, 1], output=np.float32)\n",
        "    gt_x = gaussian_filter(gt[:, :, :3], sigma=1.4, order=[1, 0], output=np.float32)\n",
        "    gt_y = gaussian_filter(gt[:, :, :3], sigma=1.4, order=[0, 1], output=np.float32)\n",
        "    \"\"\"\n",
        "\n",
        "    pd_x = gaussian_filter(pd[:, :, :3], sigma=1.4, order=[1, 0, 0], output=np.float32)\n",
        "    pd_y = gaussian_filter(pd[:, :, :3], sigma=1.4, order=[0, 1, 0], output=np.float32)\n",
        "    gt_x = gaussian_filter(gt[:, :, :3], sigma=1.4, order=[1, 0, 0], output=np.float32)\n",
        "    gt_y = gaussian_filter(gt[:, :, :3], sigma=1.4, order=[0, 1, 0], output=np.float32)\n",
        "\n",
        "\n",
        "    pd_mag = np.sqrt(pd_x**2 + pd_y**2)\n",
        "    gt_mag = np.sqrt(gt_x**2 + gt_y**2)\n",
        "\n",
        "    error_map = np.square(pd_mag - gt_mag)\n",
        "    loss = np.sum(error_map) / 10\n",
        "    return loss\n",
        "\n",
        "\"\"\"\n",
        "def calculate_sad_fgbg(predict, alpha, trimap):\n",
        "\tsad_diff = np.abs(predict-alpha)\n",
        "\tweight_fg = np.zeros(predict.shape)\n",
        "\tweight_bg = np.zeros(predict.shape)\n",
        "\tweight_trimap = np.zeros(predict.shape)\n",
        "\tweight_fg[trimap==255] = 1.\n",
        "\tweight_bg[trimap==0  ] = 1.\n",
        "\tweight_trimap[trimap==128  ] = 1.\n",
        "\tsad_fg = np.sum(sad_diff*weight_fg)/1000\n",
        "\tsad_bg = np.sum(sad_diff*weight_bg)/1000\n",
        "\tsad_trimap = np.sum(sad_diff*weight_trimap)/1000\n",
        "\treturn sad_fg, sad_bg\n",
        "\t\"\"\"\n",
        "\n",
        "\n",
        "def compute_connectivity_loss_whole_image(pd, gt, step=0.1):\n",
        "    from scipy.ndimage import morphology\n",
        "    from skimage.measure import label, regionprops\n",
        "\n",
        "    h, w, _ = pd.shape\n",
        "    thresh_steps = np.arange(0, 1.1, step)\n",
        "    l_map = -1 * np.ones((h, w), dtype=np.float32)\n",
        "    lambda_map = np.ones((h, w), dtype=np.float32)\n",
        "\n",
        "    for i in range(1, thresh_steps.size):\n",
        "        pd_th = pd[:, :, 3] >= thresh_steps[i]  # Thresholding based on the alpha channel\n",
        "        gt_th = gt[:, :, 3] >= thresh_steps[i]  # Thresholding based on the alpha channel\n",
        "\n",
        "        label_image = label(pd_th & gt_th, connectivity=1)\n",
        "        cc = regionprops(label_image)\n",
        "\n",
        "        size_vec = np.array([c.area for c in cc])\n",
        "        if len(size_vec) == 0:\n",
        "            continue\n",
        "\n",
        "        max_id = np.argmax(size_vec)\n",
        "        coords = cc[max_id].coords\n",
        "\n",
        "        omega = np.zeros((h, w), dtype=np.float32)\n",
        "        omega[coords[:, 0], coords[:, 1]] = 1\n",
        "\n",
        "        flag = (l_map == -1) & (omega == 0)\n",
        "        l_map[flag] = thresh_steps[i-1]\n",
        "\n",
        "        dist_maps = morphology.distance_transform_edt(omega == 0)\n",
        "        dist_maps = dist_maps / dist_maps.max()\n",
        "\n",
        "    l_map[l_map == -1] = 1\n",
        "    d_pd = pd[:, :, 3] - l_map\n",
        "    d_gt = gt[:, :, 3] - l_map\n",
        "\n",
        "    phi_pd = 1 - d_pd * (d_pd >= 0.15).astype(np.float32)\n",
        "    phi_gt = 1 - d_gt * (d_gt >= 0.15).astype(np.float32)\n",
        "\n",
        "    loss = np.sum(np.abs(phi_pd - phi_gt)) / 1000\n",
        "    return loss"
      ],
      "metadata": {
        "id": "6dlcqePA2_Vc"
      },
      "execution_count": null,
      "outputs": []
    },
    {
      "cell_type": "code",
      "source": [
        "from PIL import Image\n",
        "import numpy as np\n",
        "import matplotlib.pyplot as plt\n",
        "\n",
        "pd = Image.open('/content/a cartoon character holding a spoon with a scoop of ice cream in it.png') #predict image의 mask\n",
        "gt = Image.open('/content/a_cartoon_character_holding_a_spoon_with_a_scoop_of_ice_cream_in_it-removebg-preview.png') #ground truth image의 mask\n",
        "\n",
        "from PIL import Image\n",
        "import numpy as np\n",
        "\n",
        "\n",
        "# Convert the image to a NumPy array\n",
        "pd_arr = np.array(pd)\n",
        "gt_arr = np.array(gt)\n",
        "\n",
        "resized_pd = pd.resize((500, 500))\n",
        "\n",
        "resized_pd_array = np.array(resized_pd)\n",
        "\n",
        "sad_diff, mse_diff, mad_diff=calculate_sad_mse_mad_whole_img(resized_pd_array, gt_arr)\n",
        "grad = compute_gradient_whole_image(resized_pd_array, gt_arr)\n",
        "connectivity = compute_connectivity_loss_whole_image(resized_pd_array, gt_arr, step=0.1)\n"
      ],
      "metadata": {
        "colab": {
          "base_uri": "https://localhost:8080/",
          "height": 406
        },
        "id": "jbtULQns2KRe",
        "outputId": "88152e91-d680-4ac5-d85c-a22aefa10ccf"
      },
      "execution_count": null,
      "outputs": [
        {
          "output_type": "display_data",
          "data": {
            "text/plain": [
              "<Figure size 640x480 with 1 Axes>"
            ],
            "image/png": "[encoded data removed]"
          },
          "metadata": {}
        }
      ]
    },
    {
      "cell_type": "code",
      "source": [
        "sad_diff"
      ],
      "metadata": {
        "colab": {
          "base_uri": "https://localhost:8080/"
        },
        "id": "zM-4tmlr3DVa",
        "outputId": "3c4ea396-1c10-4711-fb36-6734340c3ed9"
      },
      "execution_count": null,
      "outputs": [
        {
          "output_type": "execute_result",
          "data": {
            "text/plain": [
              "25073.889"
            ]
          },
          "metadata": {},
          "execution_count": 11
        }
      ]
    },
    {
      "cell_type": "code",
      "source": [
        "mse_diff"
      ],
      "metadata": {
        "colab": {
          "base_uri": "https://localhost:8080/"
        },
        "id": "C8VCfFvd3Dx-",
        "outputId": "d52437e9-1478-4f43-828e-cc789bcfe39d"
      },
      "execution_count": null,
      "outputs": [
        {
          "output_type": "execute_result",
          "data": {
            "text/plain": [
              "46.038204"
            ]
          },
          "metadata": {},
          "execution_count": 12
        }
      ]
    },
    {
      "cell_type": "code",
      "source": [
        "mad_diff"
      ],
      "metadata": {
        "colab": {
          "base_uri": "https://localhost:8080/"
        },
        "id": "eLhdOhfM3HcQ",
        "outputId": "69980679-dec0-44ed-a011-b0eafc40b260"
      },
      "execution_count": null,
      "outputs": [
        {
          "output_type": "execute_result",
          "data": {
            "text/plain": [
              "100.295556"
            ]
          },
          "metadata": {},
          "execution_count": 13
        }
      ]
    },
    {
      "cell_type": "code",
      "source": [
        "grad"
      ],
      "metadata": {
        "colab": {
          "base_uri": "https://localhost:8080/"
        },
        "id": "P4clIJB83Hhe",
        "outputId": "62e6ab68-65e7-4111-e20e-5509df002156"
      },
      "execution_count": null,
      "outputs": [
        {
          "output_type": "execute_result",
          "data": {
            "text/plain": [
              "3617705.6"
            ]
          },
          "metadata": {},
          "execution_count": 14
        }
      ]
    },
    {
      "cell_type": "code",
      "source": [
        "connectivity"
      ],
      "metadata": {
        "colab": {
          "base_uri": "https://localhost:8080/"
        },
        "id": "5VL3Ezkg3H8k",
        "outputId": "536d893f-19c7-4589-ffdd-dcf088496f3a"
      },
      "execution_count": null,
      "outputs": [
        {
          "output_type": "execute_result",
          "data": {
            "text/plain": [
              "4271.827"
            ]
          },
          "metadata": {},
          "execution_count": 15
        }
      ]
    },
    {
      "cell_type": "code",
      "source": [],
      "metadata": {
        "id": "8Udi-kfR3H9r"
      },
      "execution_count": null,
      "outputs": []
    },
    {
      "cell_type": "markdown",
      "source": [
        "#input 폴더, groundtruth 폴더에 있는 것 한번에 계산하기(각각 이름은 같음) -> csv파일에 저장"
      ],
      "metadata": {
        "id": "v_DiQ2q1T_Z8"
      }
    },
    {
      "cell_type": "code",
      "source": [
        "import os\n",
        "from PIL import Image\n",
        "import numpy as np\n",
        "\n",
        "def process_image(input_path):\n",
        "    # Open the image\n",
        "    img = Image.open(input_path)\n",
        "\n",
        "    # Convert the image to a NumPy array\n",
        "    img_array = np.array(img)\n",
        "\n",
        "    # Resize the image\n",
        "    resized_img = img.resize((500, 500))\n",
        "\n",
        "    # Convert the resized image to a NumPy array\n",
        "    resized_img_array = np.array(resized_img)\n",
        "\n",
        "    return resized_img_array\n",
        "\n",
        "# Input and output directories\n",
        "predicted_directory = '/content/drive/MyDrive/스모어톡/프리렌서/배경제거/nukki_test/output_sam_hq_vit' #수정\n",
        "groundtruth_directory = '/content/drive/MyDrive/스모어톡/프리렌서/배경제거/sam_test/output/gt' #수정\n",
        "#output_directory = '/content/output_images/'\n",
        "\n",
        "# List of file names in input and ground truth directories\n",
        "predicted_files = os.listdir(predicted_directory)\n",
        "gt_files = os.listdir(groundtruth_directory)\n",
        "\n",
        "# Lists to store output values and file names\n",
        "sad_values = []\n",
        "mse_values = []\n",
        "mad_values = []\n",
        "gradient_values = []\n",
        "connectivity_values = []\n",
        "output_file_names = []\n",
        "\n",
        "# Process each input file\n",
        "for file_name in predicted_files:\n",
        "    print('filename', file_name)\n",
        "    # Construct full paths for input and ground truth images\n",
        "    input_path = os.path.join(predicted_directory, file_name)\n",
        "    gt_path = os.path.join(groundtruth_directory, file_name)\n",
        "\n",
        "    # Check if corresponding ground truth file exists\n",
        "    if file_name in gt_files:\n",
        "        # Process the images\n",
        "        resized_array = process_image(input_path)\n",
        "        gt_array = process_image(gt_path)\n",
        "\n",
        "        # Perform calculations\n",
        "        sad, mse, mad = calculate_sad_mse_mad_whole_img(resized_array, gt_array)\n",
        "        grad = compute_gradient_whole_image(resized_array, gt_array)\n",
        "        conn = compute_connectivity_loss_whole_image(resized_array, gt_array, step=0.1)\n",
        "\n",
        "        # Store the values and file names\n",
        "        sad_values.append(sad)\n",
        "        mse_values.append(mse)\n",
        "        mad_values.append(mad)\n",
        "        gradient_values.append(grad)\n",
        "        connectivity_values.append(conn)\n",
        "        output_file_names.append(file_name)\n",
        "\n",
        "# Save the values to a local file or perform further analysis\n",
        "# For example, saving the values to a CSV file\n",
        "import csv\n",
        "\n",
        "output_file = '/content/drive/MyDrive/스모어톡/프리렌서/배경제거/sam_test/output/sam_hq_vit_calculated_results.csv'  # 수정\n",
        "\n",
        "with open(output_file, 'w', newline='') as csvfile:\n",
        "    writer = csv.writer(csvfile)\n",
        "    writer.writerow(['File Name', 'SAD', 'MSE', 'MAD', 'Gradient', 'Connectivity'])\n",
        "\n",
        "    for i in range(len(output_file_names)):\n",
        "        writer.writerow([\n",
        "            output_file_names[i],\n",
        "            sad_values[i],\n",
        "            mse_values[i],\n",
        "            mad_values[i],\n",
        "            gradient_values[i],\n",
        "            connectivity_values[i]\n",
        "        ])"
      ],
      "metadata": {
        "colab": {
          "base_uri": "https://localhost:8080/"
        },
        "id": "Sy_Rgib9UGZY",
        "outputId": "238fe0ea-3fcb-4593-e950-c733951d57ba"
      },
      "execution_count": null,
      "outputs": [
        {
          "output_type": "stream",
          "name": "stdout",
          "text": [
            "filename A Rubik's Cube, with Earth intricately drawn on each face, which is not solved yet, placed on a clean white background.png\n"
          ]
        },
        {
          "output_type": "stream",
          "name": "stderr",
          "text": [
            "<ipython-input-2-96882e7376d6>:122: DeprecationWarning: Please use `distance_transform_edt` from the `scipy.ndimage` namespace, the `scipy.ndimage.morphology` namespace is deprecated.\n",
            "  dist_maps = morphology.distance_transform_edt(omega == 0)\n"
          ]
        },
        {
          "output_type": "stream",
          "name": "stdout",
          "text": [
            "filename A robot standing front view, photo by wes anderson-ai-generated-flamel.png\n",
            "filename a cartoon character holding a spoon with a scoop of ice cream in it(1).png\n",
            "filename a cartoon character holding a spoon with a scoop of ice cream in it(2).png\n",
            "filename a cartoon character holding a spoon with a scoop of ice cream in it(3).png\n",
            "filename a cartoon character holding a spoon with a scoop of ice cream in it.png\n",
            "filename a white disc on the floor.png\n",
            "filename an image of a Rubik's Cube.png\n",
            "filename 경양식 돈까스-ai-generated-flamel.png\n",
            "filename 귀여운 보라색 요정-ai-generated-flamel.png\n",
            "filename 노란색 귀여운 소파-ai-generated-flamel.png\n",
            "filename 보라색 목도리를 한 귀여운 눈사람 캐릭터.png\n",
            "filename 보라색 목도리를 한 귀여운 눈사람-ai-generated-flamel.png\n",
            "filename 빈티지한 의자-ai-generated-flamel.png\n",
            "filename 초록색 반짝이는 포장지로 싸이고 빨간색 끈으로 리본이 묶인 선물 박스-ai-generated-flamel.png\n",
            "filename 크리스마스 케익-ai-generated-flamel.png\n"
          ]
        }
      ]
    },
    {
      "cell_type": "code",
      "source": [
        "len(sad_values)"
      ],
      "metadata": {
        "colab": {
          "base_uri": "https://localhost:8080/"
        },
        "id": "aRFNLuXXUlOn",
        "outputId": "846be8d2-35a6-451e-bff2-f85adad047bb"
      },
      "execution_count": null,
      "outputs": [
        {
          "output_type": "execute_result",
          "data": {
            "text/plain": [
              "14"
            ]
          },
          "metadata": {},
          "execution_count": 7
        }
      ]
    },
    {
      "cell_type": "code",
      "source": [
        "#drive파일 이름 변경\n",
        "\"\"\"\n",
        "import os\n",
        "\n",
        "input_path = \"/content/drive/MyDrive/스모어톡/프리렌서/배경제거/nukki_test/output_matte_anything_samhq\"\n",
        "output_path = \"/content/drive/MyDrive/스모어톡/프리렌서/배경제거/nukki_test/output_matte_anything_samhq\"\n",
        "\n",
        "\n",
        "input_file = \"a rubik's code and a tree.png\"\n",
        "input_path_final = os.path.join(input_path, input_file)\n",
        "output_file = \"A Rubik's Cube, with Earth intricately drawn on each face, which is not solved yet, placed on a clean white background.png\"\n",
        "output_path_final = os.path.join(output_path, output_file)\n",
        "os.rename(input_path_final, output_path_final)\n",
        "\n",
        "input_file = \"a robot in the middle.png\"\n",
        "input_path_final = os.path.join(input_path, input_file)\n",
        "output_file = \"A robot standing front view, photo by wes anderson-ai-generated-flamel.png\"\n",
        "output_path_final = os.path.join(output_path, output_file)\n",
        "os.rename(input_path_final, output_path_final)\n",
        "\n",
        "input_file = \"a cartoon character in the middle.png\"\n",
        "input_path_final = os.path.join(input_path, input_file)\n",
        "output_file = \"a cartoon character holding a spoon with a scoop of ice cream in it(1).png\"\n",
        "output_path_final = os.path.join(output_path, output_file)\n",
        "os.rename(input_path_final, output_path_final)\n",
        "\n",
        "input_file = \"a cartoon character in the middle2.png\"\n",
        "input_path_final = os.path.join(input_path, input_file)\n",
        "output_file = \"a cartoon character holding a spoon with a scoop of ice cream in it(2).png\"\n",
        "output_path_final = os.path.join(output_path, output_file)\n",
        "os.rename(input_path_final, output_path_final)\n",
        "\n",
        "input_file = \"a cartoon character in the middle3.png\"\n",
        "input_path_final = os.path.join(input_path, input_file)\n",
        "output_file = \"a cartoon character holding a spoon with a scoop of ice cream in it(3).png\"\n",
        "output_path_final = os.path.join(output_path, output_file)\n",
        "os.rename(input_path_final, output_path_final)\n",
        "\n",
        "input_file = \"a cartoon character in the middle4.png\"\n",
        "input_path_final = os.path.join(input_path, input_file)\n",
        "output_file = \"a cartoon character holding a spoon with a scoop of ice cream in it.png\"\n",
        "output_path_final = os.path.join(output_path, output_file)\n",
        "os.rename(input_path_final, output_path_final)\n",
        "\n",
        "input_file = \"a white disc on the floor.png\"\n",
        "input_path_final = os.path.join(input_path, input_file)\n",
        "output_file = \"a white disc on the floor.png\"\n",
        "output_path_final = os.path.join(output_path, output_file)\n",
        "os.rename(input_path_final, output_path_final)\n",
        "\n",
        "input_file = \"a Rubik's cube.png\"\n",
        "input_path_final = os.path.join(input_path, input_file)\n",
        "output_file = \"an image of a Rubik's Cube.png\"\n",
        "output_path_final = os.path.join(output_path, output_file)\n",
        "os.rename(input_path_final, output_path_final)\n",
        "\n",
        "input_file = \"a plate of port food in the middle.png\"\n",
        "input_path_final = os.path.join(input_path, input_file)\n",
        "output_file = \"경양식 돈까스-ai-generated-flamel.png\"\n",
        "output_path_final = os.path.join(output_path, output_file)\n",
        "os.rename(input_path_final, output_path_final)\n",
        "\n",
        "input_file = \"a cute fairtale in the middle1.png\"\n",
        "input_path_final = os.path.join(input_path, input_file)\n",
        "output_file = \"귀여운 보라색 요정-ai-generated-flamel.png\"\n",
        "output_path_final = os.path.join(output_path, output_file)\n",
        "os.rename(input_path_final, output_path_final)\n",
        "\n",
        "input_file = \"a yellow sofa in the middle.png\"\n",
        "input_path_final = os.path.join(input_path, input_file)\n",
        "output_file = \"노란색 귀여운 소파-ai-generated-flamel.png\"\n",
        "output_path_final = os.path.join(output_path, output_file)\n",
        "os.rename(input_path_final, output_path_final)\n",
        "\n",
        "input_file = \"a snowman with the purple scarf1.png\"\n",
        "input_path_final = os.path.join(input_path, input_file)\n",
        "output_file = \"보라색 목도리를 한 귀여운 눈사람 캐릭터.png\"\n",
        "output_path_final = os.path.join(output_path, output_file)\n",
        "os.rename(input_path_final, output_path_final)\n",
        "\n",
        "input_file = \"a snowman with the purple scarf2.png\"\n",
        "input_path_final = os.path.join(input_path, input_file)\n",
        "output_file = \"보라색 목도리를 한 귀여운 눈사람-ai-generated-flamel.png\"\n",
        "output_path_final = os.path.join(output_path, output_file)\n",
        "os.rename(input_path_final, output_path_final)\n",
        "\n",
        "input_file = \"a chair in the middle.png\"\n",
        "input_path_final = os.path.join(input_path, input_file)\n",
        "output_file = \"빈티지한 의자-ai-generated-flamel.png\"\n",
        "output_path_final = os.path.join(output_path, output_file)\n",
        "os.rename(input_path_final, output_path_final)\n",
        "\n",
        "input_file = \"a present in the middle.png\"\n",
        "input_path_final = os.path.join(input_path, input_file)\n",
        "output_file = \"초록색 반짝이는 포장지로 싸이고 빨간색 끈으로 리본이 묶인 선물 박스-ai-generated-flamel.png\"\n",
        "output_path_final = os.path.join(output_path, output_file)\n",
        "os.rename(input_path_final, output_path_final)\n",
        "\n",
        "input_file = \"a cake in the middle.png\"\n",
        "input_path_final = os.path.join(input_path, input_file)\n",
        "output_file = \"크리스마스 케익-ai-generated-flamel.png\"\n",
        "output_path_final = os.path.join(output_path, output_file)\n",
        "os.rename(input_path_final, output_path_final)\n",
        "\"\"\""
      ],
      "metadata": {
        "id": "Caol8ngkgaGu"
      },
      "execution_count": null,
      "outputs": []
    },
    {
      "cell_type": "markdown",
      "source": [
        "## clip score (input prompt <-> background removed image)"
      ],
      "metadata": {
        "id": "7JK4PiWcn2ON"
      }
    },
    {
      "cell_type": "code",
      "source": [
        "!pip install torch\n",
        "!pip install git+https://github.com/openai/CLIP.git\n",
        "!pip install clip-score"
      ],
      "metadata": {
        "colab": {
          "base_uri": "https://localhost:8080/"
        },
        "id": "FgnNZNRXn43u",
        "outputId": "a48bca39-0f79-4e09-c256-5510e7493bb5"
      },
      "execution_count": null,
      "outputs": [
        {
          "output_type": "stream",
          "name": "stdout",
          "text": [
            "Requirement already satisfied: torch in /usr/local/lib/python3.10/dist-packages (2.1.0+cu121)\n",
            "Requirement already satisfied: filelock in /usr/local/lib/python3.10/dist-packages (from torch) (3.13.1)\n",
            "Requirement already satisfied: typing-extensions in /usr/local/lib/python3.10/dist-packages (from torch) (4.5.0)\n",
            "Requirement already satisfied: sympy in /usr/local/lib/python3.10/dist-packages (from torch) (1.12)\n",
            "Requirement already satisfied: networkx in /usr/local/lib/python3.10/dist-packages (from torch) (3.2.1)\n",
            "Requirement already satisfied: jinja2 in /usr/local/lib/python3.10/dist-packages (from torch) (3.1.2)\n",
            "Requirement already satisfied: fsspec in /usr/local/lib/python3.10/dist-packages (from torch) (2023.6.0)\n",
            "Requirement already satisfied: triton==2.1.0 in /usr/local/lib/python3.10/dist-packages (from torch) (2.1.0)\n",
            "Requirement already satisfied: MarkupSafe>=2.0 in /usr/local/lib/python3.10/dist-packages (from jinja2->torch) (2.1.3)\n",
            "Requirement already satisfied: mpmath>=0.19 in /usr/local/lib/python3.10/dist-packages (from sympy->torch) (1.3.0)\n",
            "Collecting git+https://github.com/openai/CLIP.git\n",
            "  Cloning https://github.com/openai/CLIP.git to /tmp/pip-req-build-6ckt_j_b\n",
            "  Running command git clone --filter=blob:none --quiet https://github.com/openai/CLIP.git /tmp/pip-req-build-6ckt_j_b\n",
            "  Resolved https://github.com/openai/CLIP.git to commit a1d071733d7111c9c014f024669f959182114e33\n",
            "  Preparing metadata (setup.py) ... \u001b[?25l\u001b[?25hdone\n",
            "Collecting ftfy (from clip==1.0)\n",
            "  Downloading ftfy-6.1.3-py3-none-any.whl (53 kB)\n",
            "\u001b[2K     \u001b[90m━━━━━━━━━━━━━━━━━━━━━━━━━━━━━━━━━━━━━━━━\u001b[0m \u001b[32m53.4/53.4 kB\u001b[0m \u001b[31m826.2 kB/s\u001b[0m eta \u001b[36m0:00:00\u001b[0m\n",
            "\u001b[?25hRequirement already satisfied: regex in /usr/local/lib/python3.10/dist-packages (from clip==1.0) (2023.6.3)\n",
            "Requirement already satisfied: tqdm in /usr/local/lib/python3.10/dist-packages (from clip==1.0) (4.66.1)\n",
            "Requirement already satisfied: torch in /usr/local/lib/python3.10/dist-packages (from clip==1.0) (2.1.0+cu121)\n",
            "Requirement already satisfied: torchvision in /usr/local/lib/python3.10/dist-packages (from clip==1.0) (0.16.0+cu121)\n",
            "Requirement already satisfied: wcwidth<0.3.0,>=0.2.12 in /usr/local/lib/python3.10/dist-packages (from ftfy->clip==1.0) (0.2.12)\n",
            "Requirement already satisfied: filelock in /usr/local/lib/python3.10/dist-packages (from torch->clip==1.0) (3.13.1)\n",
            "Requirement already satisfied: typing-extensions in /usr/local/lib/python3.10/dist-packages (from torch->clip==1.0) (4.5.0)\n",
            "Requirement already satisfied: sympy in /usr/local/lib/python3.10/dist-packages (from torch->clip==1.0) (1.12)\n",
            "Requirement already satisfied: networkx in /usr/local/lib/python3.10/dist-packages (from torch->clip==1.0) (3.2.1)\n",
            "Requirement already satisfied: jinja2 in /usr/local/lib/python3.10/dist-packages (from torch->clip==1.0) (3.1.2)\n",
            "Requirement already satisfied: fsspec in /usr/local/lib/python3.10/dist-packages (from torch->clip==1.0) (2023.6.0)\n",
            "Requirement already satisfied: triton==2.1.0 in /usr/local/lib/python3.10/dist-packages (from torch->clip==1.0) (2.1.0)\n",
            "Requirement already satisfied: numpy in /usr/local/lib/python3.10/dist-packages (from torchvision->clip==1.0) (1.23.5)\n",
            "Requirement already satisfied: requests in /usr/local/lib/python3.10/dist-packages (from torchvision->clip==1.0) (2.31.0)\n",
            "Requirement already satisfied: pillow!=8.3.*,>=5.3.0 in /usr/local/lib/python3.10/dist-packages (from torchvision->clip==1.0) (9.4.0)\n",
            "Requirement already satisfied: MarkupSafe>=2.0 in /usr/local/lib/python3.10/dist-packages (from jinja2->torch->clip==1.0) (2.1.3)\n",
            "Requirement already satisfied: charset-normalizer<4,>=2 in /usr/local/lib/python3.10/dist-packages (from requests->torchvision->clip==1.0) (3.3.2)\n",
            "Requirement already satisfied: idna<4,>=2.5 in /usr/local/lib/python3.10/dist-packages (from requests->torchvision->clip==1.0) (3.6)\n",
            "Requirement already satisfied: urllib3<3,>=1.21.1 in /usr/local/lib/python3.10/dist-packages (from requests->torchvision->clip==1.0) (2.0.7)\n",
            "Requirement already satisfied: certifi>=2017.4.17 in /usr/local/lib/python3.10/dist-packages (from requests->torchvision->clip==1.0) (2023.11.17)\n",
            "Requirement already satisfied: mpmath>=0.19 in /usr/local/lib/python3.10/dist-packages (from sympy->torch->clip==1.0) (1.3.0)\n",
            "Building wheels for collected packages: clip\n",
            "  Building wheel for clip (setup.py) ... \u001b[?25l\u001b[?25hdone\n",
            "  Created wheel for clip: filename=clip-1.0-py3-none-any.whl size=1369497 sha256=3066d6f97566f679a89d56358c26fd252e5ea3244819e17d1fbc8d53f93991fe\n",
            "  Stored in directory: /tmp/pip-ephem-wheel-cache-xfdgkat0/wheels/da/2b/4c/d6691fa9597aac8bb85d2ac13b112deb897d5b50f5ad9a37e4\n",
            "Successfully built clip\n",
            "Installing collected packages: ftfy, clip\n",
            "Successfully installed clip-1.0 ftfy-6.1.3\n",
            "Collecting clip-score\n",
            "  Downloading clip-score-0.1.1.tar.gz (10 kB)\n",
            "  Preparing metadata (setup.py) ... \u001b[?25l\u001b[?25hdone\n",
            "Requirement already satisfied: numpy in /usr/local/lib/python3.10/dist-packages (from clip-score) (1.23.5)\n",
            "Requirement already satisfied: pillow in /usr/local/lib/python3.10/dist-packages (from clip-score) (9.4.0)\n",
            "Requirement already satisfied: torch>=1.7.1 in /usr/local/lib/python3.10/dist-packages (from clip-score) (2.1.0+cu121)\n",
            "Requirement already satisfied: torchvision>=0.8.2 in /usr/local/lib/python3.10/dist-packages (from clip-score) (0.16.0+cu121)\n",
            "Requirement already satisfied: ftfy in /usr/local/lib/python3.10/dist-packages (from clip-score) (6.1.3)\n",
            "Requirement already satisfied: regex in /usr/local/lib/python3.10/dist-packages (from clip-score) (2023.6.3)\n",
            "Requirement already satisfied: tqdm in /usr/local/lib/python3.10/dist-packages (from clip-score) (4.66.1)\n",
            "Requirement already satisfied: filelock in /usr/local/lib/python3.10/dist-packages (from torch>=1.7.1->clip-score) (3.13.1)\n",
            "Requirement already satisfied: typing-extensions in /usr/local/lib/python3.10/dist-packages (from torch>=1.7.1->clip-score) (4.5.0)\n",
            "Requirement already satisfied: sympy in /usr/local/lib/python3.10/dist-packages (from torch>=1.7.1->clip-score) (1.12)\n",
            "Requirement already satisfied: networkx in /usr/local/lib/python3.10/dist-packages (from torch>=1.7.1->clip-score) (3.2.1)\n",
            "Requirement already satisfied: jinja2 in /usr/local/lib/python3.10/dist-packages (from torch>=1.7.1->clip-score) (3.1.2)\n",
            "Requirement already satisfied: fsspec in /usr/local/lib/python3.10/dist-packages (from torch>=1.7.1->clip-score) (2023.6.0)\n",
            "Requirement already satisfied: triton==2.1.0 in /usr/local/lib/python3.10/dist-packages (from torch>=1.7.1->clip-score) (2.1.0)\n",
            "Requirement already satisfied: requests in /usr/local/lib/python3.10/dist-packages (from torchvision>=0.8.2->clip-score) (2.31.0)\n",
            "Requirement already satisfied: wcwidth<0.3.0,>=0.2.12 in /usr/local/lib/python3.10/dist-packages (from ftfy->clip-score) (0.2.12)\n",
            "Requirement already satisfied: MarkupSafe>=2.0 in /usr/local/lib/python3.10/dist-packages (from jinja2->torch>=1.7.1->clip-score) (2.1.3)\n",
            "Requirement already satisfied: charset-normalizer<4,>=2 in /usr/local/lib/python3.10/dist-packages (from requests->torchvision>=0.8.2->clip-score) (3.3.2)\n",
            "Requirement already satisfied: idna<4,>=2.5 in /usr/local/lib/python3.10/dist-packages (from requests->torchvision>=0.8.2->clip-score) (3.6)\n",
            "Requirement already satisfied: urllib3<3,>=1.21.1 in /usr/local/lib/python3.10/dist-packages (from requests->torchvision>=0.8.2->clip-score) (2.0.7)\n",
            "Requirement already satisfied: certifi>=2017.4.17 in /usr/local/lib/python3.10/dist-packages (from requests->torchvision>=0.8.2->clip-score) (2023.11.17)\n",
            "Requirement already satisfied: mpmath>=0.19 in /usr/local/lib/python3.10/dist-packages (from sympy->torch>=1.7.1->clip-score) (1.3.0)\n",
            "Building wheels for collected packages: clip-score\n",
            "  Building wheel for clip-score (setup.py) ... \u001b[?25l\u001b[?25hdone\n",
            "  Created wheel for clip-score: filename=clip_score-0.1.1-py3-none-any.whl size=9990 sha256=db494650bd99652a7d8e0e72793594ed3ae2ffa4622b52daa940260203cc7737\n",
            "  Stored in directory: /root/.cache/pip/wheels/b0/46/91/97ba1991d5b82799cec6179218336517e8927b0aa518c9fbe2\n",
            "Successfully built clip-score\n",
            "Installing collected packages: clip-score\n",
            "Successfully installed clip-score-0.1.1\n"
          ]
        }
      ]
    },
    {
      "cell_type": "code",
      "source": [
        "image_path = \"/content/drive/MyDrive/스모어톡/프리렌서/배경제거/nukki_test/output_matting_anything/A Rubiks Cube, with Earth intricately drawn on each face, which is not solved yet, placed on a clean white background.png\"\n",
        "text_path = \"/content/drive/MyDrive/스모어톡/프리렌서/배경제거/nukki_test_etc/output/input_prompt/a rubik's code and a tree.txt\"\n",
        "\n",
        "!python -m clip_score \"/content/drive/MyDrive/스모어톡/프리렌서/배경제거/nukki_test_etc/output/test/\" \"/content/drive/MyDrive/스모어톡/프리렌서/배경제거/nukki_test_etc/output/input_prompt/\"\n"
      ],
      "metadata": {
        "colab": {
          "base_uri": "https://localhost:8080/"
        },
        "id": "SnzjFO94n_9B",
        "outputId": "82a93900-7601-487b-f115-2b5a27c195bd"
      },
      "execution_count": null,
      "outputs": [
        {
          "output_type": "stream",
          "name": "stdout",
          "text": [
            "Loading CLIP model: ViT-B/32\n",
            "Calculating CLIP Score:\n",
            "100% 1/1 [00:01<00:00,  1.84s/it]\n",
            "CLIP Score:  35.20554733276367\n"
          ]
        }
      ]
    },
    {
      "cell_type": "code",
      "source": [
        "!pip install torchmetrics"
      ],
      "metadata": {
        "colab": {
          "base_uri": "https://localhost:8080/"
        },
        "id": "Z5sSQgD5yl-X",
        "outputId": "7270a2cc-01fd-4f1e-fa52-f3d14183a647"
      },
      "execution_count": null,
      "outputs": [
        {
          "output_type": "stream",
          "name": "stdout",
          "text": [
            "Collecting torchmetrics\n",
            "  Downloading torchmetrics-1.2.1-py3-none-any.whl (806 kB)\n",
            "\u001b[2K     \u001b[90m━━━━━━━━━━━━━━━━━━━━━━━━━━━━━━━━━━━━━━━━\u001b[0m \u001b[32m806.1/806.1 kB\u001b[0m \u001b[31m5.0 MB/s\u001b[0m eta \u001b[36m0:00:00\u001b[0m\n",
            "\u001b[?25hRequirement already satisfied: numpy>1.20.0 in /usr/local/lib/python3.10/dist-packages (from torchmetrics) (1.23.5)\n",
            "Requirement already satisfied: packaging>17.1 in /usr/local/lib/python3.10/dist-packages (from torchmetrics) (23.2)\n",
            "Requirement already satisfied: torch>=1.8.1 in /usr/local/lib/python3.10/dist-packages (from torchmetrics) (2.1.0+cu121)\n",
            "Collecting lightning-utilities>=0.8.0 (from torchmetrics)\n",
            "  Downloading lightning_utilities-0.10.0-py3-none-any.whl (24 kB)\n",
            "Requirement already satisfied: setuptools in /usr/local/lib/python3.10/dist-packages (from lightning-utilities>=0.8.0->torchmetrics) (67.7.2)\n",
            "Requirement already satisfied: typing-extensions in /usr/local/lib/python3.10/dist-packages (from lightning-utilities>=0.8.0->torchmetrics) (4.5.0)\n",
            "Requirement already satisfied: filelock in /usr/local/lib/python3.10/dist-packages (from torch>=1.8.1->torchmetrics) (3.13.1)\n",
            "Requirement already satisfied: sympy in /usr/local/lib/python3.10/dist-packages (from torch>=1.8.1->torchmetrics) (1.12)\n",
            "Requirement already satisfied: networkx in /usr/local/lib/python3.10/dist-packages (from torch>=1.8.1->torchmetrics) (3.2.1)\n",
            "Requirement already satisfied: jinja2 in /usr/local/lib/python3.10/dist-packages (from torch>=1.8.1->torchmetrics) (3.1.2)\n",
            "Requirement already satisfied: fsspec in /usr/local/lib/python3.10/dist-packages (from torch>=1.8.1->torchmetrics) (2023.6.0)\n",
            "Requirement already satisfied: triton==2.1.0 in /usr/local/lib/python3.10/dist-packages (from torch>=1.8.1->torchmetrics) (2.1.0)\n",
            "Requirement already satisfied: MarkupSafe>=2.0 in /usr/local/lib/python3.10/dist-packages (from jinja2->torch>=1.8.1->torchmetrics) (2.1.3)\n",
            "Requirement already satisfied: mpmath>=0.19 in /usr/local/lib/python3.10/dist-packages (from sympy->torch>=1.8.1->torchmetrics) (1.3.0)\n",
            "Installing collected packages: lightning-utilities, torchmetrics\n",
            "Successfully installed lightning-utilities-0.10.0 torchmetrics-1.2.1\n"
          ]
        }
      ]
    },
    {
      "cell_type": "code",
      "source": [
        "!pip install -U torch torchvision\n",
        "!pip install -U git+https://github.com/openai/CLIP.git"
      ],
      "metadata": {
        "colab": {
          "base_uri": "https://localhost:8080/",
          "height": 1000
        },
        "id": "xStjtwlZw42a",
        "outputId": "bb76cf7c-6830-4664-af89-dc093c93c9f9"
      },
      "execution_count": null,
      "outputs": [
        {
          "output_type": "stream",
          "name": "stdout",
          "text": [
            "Requirement already satisfied: torch in /usr/local/lib/python3.10/dist-packages (2.1.0+cu121)\n",
            "Collecting torch\n",
            "  Downloading torch-2.1.2-cp310-cp310-manylinux1_x86_64.whl (670.2 MB)\n",
            "\u001b[2K     \u001b[90m━━━━━━━━━━━━━━━━━━━━━━━━━━━━━━━━━━━━━━━━\u001b[0m \u001b[32m670.2/670.2 MB\u001b[0m \u001b[31m619.9 kB/s\u001b[0m eta \u001b[36m0:00:00\u001b[0m\n",
            "\u001b[?25hRequirement already satisfied: torchvision in /usr/local/lib/python3.10/dist-packages (0.16.0+cu121)\n",
            "Collecting torchvision\n",
            "  Downloading torchvision-0.16.2-cp310-cp310-manylinux1_x86_64.whl (6.8 MB)\n",
            "\u001b[2K     \u001b[90m━━━━━━━━━━━━━━━━━━━━━━━━━━━━━━━━━━━━━━━━\u001b[0m \u001b[32m6.8/6.8 MB\u001b[0m \u001b[31m51.8 MB/s\u001b[0m eta \u001b[36m0:00:00\u001b[0m\n",
            "\u001b[?25hRequirement already satisfied: filelock in /usr/local/lib/python3.10/dist-packages (from torch) (3.13.1)\n",
            "Requirement already satisfied: typing-extensions in /usr/local/lib/python3.10/dist-packages (from torch) (4.5.0)\n",
            "Requirement already satisfied: sympy in /usr/local/lib/python3.10/dist-packages (from torch) (1.12)\n",
            "Requirement already satisfied: networkx in /usr/local/lib/python3.10/dist-packages (from torch) (3.2.1)\n",
            "Requirement already satisfied: jinja2 in /usr/local/lib/python3.10/dist-packages (from torch) (3.1.2)\n",
            "Requirement already satisfied: fsspec in /usr/local/lib/python3.10/dist-packages (from torch) (2023.6.0)\n",
            "Collecting nvidia-cuda-nvrtc-cu12==12.1.105 (from torch)\n",
            "  Downloading nvidia_cuda_nvrtc_cu12-12.1.105-py3-none-manylinux1_x86_64.whl (23.7 MB)\n",
            "\u001b[2K     \u001b[90m━━━━━━━━━━━━━━━━━━━━━━━━━━━━━━━━━━━━━━━━\u001b[0m \u001b[32m23.7/23.7 MB\u001b[0m \u001b[31m34.0 MB/s\u001b[0m eta \u001b[36m0:00:00\u001b[0m\n",
            "\u001b[?25hCollecting nvidia-cuda-runtime-cu12==12.1.105 (from torch)\n",
            "  Downloading nvidia_cuda_runtime_cu12-12.1.105-py3-none-manylinux1_x86_64.whl (823 kB)\n",
            "\u001b[2K     \u001b[90m━━━━━━━━━━━━━━━━━━━━━━━━━━━━━━━━━━━━━━━━\u001b[0m \u001b[32m823.6/823.6 kB\u001b[0m \u001b[31m54.8 MB/s\u001b[0m eta \u001b[36m0:00:00\u001b[0m\n",
            "\u001b[?25hCollecting nvidia-cuda-cupti-cu12==12.1.105 (from torch)\n",
            "  Downloading nvidia_cuda_cupti_cu12-12.1.105-py3-none-manylinux1_x86_64.whl (14.1 MB)\n",
            "\u001b[2K     \u001b[90m━━━━━━━━━━━━━━━━━━━━━━━━━━━━━━━━━━━━━━━━\u001b[0m \u001b[32m14.1/14.1 MB\u001b[0m \u001b[31m43.0 MB/s\u001b[0m eta \u001b[36m0:00:00\u001b[0m\n",
            "\u001b[?25hCollecting nvidia-cudnn-cu12==8.9.2.26 (from torch)\n",
            "  Downloading nvidia_cudnn_cu12-8.9.2.26-py3-none-manylinux1_x86_64.whl (731.7 MB)\n",
            "\u001b[2K     \u001b[90m━━━━━━━━━━━━━━━━━━━━━━━━━━━━━━━━━━━━━━━━\u001b[0m \u001b[32m731.7/731.7 MB\u001b[0m \u001b[31m1.0 MB/s\u001b[0m eta \u001b[36m0:00:00\u001b[0m\n",
            "\u001b[?25hCollecting nvidia-cublas-cu12==12.1.3.1 (from torch)\n",
            "  Downloading nvidia_cublas_cu12-12.1.3.1-py3-none-manylinux1_x86_64.whl (410.6 MB)\n",
            "\u001b[2K     \u001b[90m━━━━━━━━━━━━━━━━━━━━━━━━━━━━━━━━━━━━━━━━\u001b[0m \u001b[32m410.6/410.6 MB\u001b[0m \u001b[31m2.2 MB/s\u001b[0m eta \u001b[36m0:00:00\u001b[0m\n",
            "\u001b[?25hCollecting nvidia-cufft-cu12==11.0.2.54 (from torch)\n",
            "  Downloading nvidia_cufft_cu12-11.0.2.54-py3-none-manylinux1_x86_64.whl (121.6 MB)\n",
            "\u001b[2K     \u001b[90m━━━━━━━━━━━━━━━━━━━━━━━━━━━━━━━━━━━━━━━━\u001b[0m \u001b[32m121.6/121.6 MB\u001b[0m \u001b[31m6.8 MB/s\u001b[0m eta \u001b[36m0:00:00\u001b[0m\n",
            "\u001b[?25hCollecting nvidia-curand-cu12==10.3.2.106 (from torch)\n",
            "  Downloading nvidia_curand_cu12-10.3.2.106-py3-none-manylinux1_x86_64.whl (56.5 MB)\n",
            "\u001b[2K     \u001b[90m━━━━━━━━━━━━━━━━━━━━━━━━━━━━━━━━━━━━━━━━\u001b[0m \u001b[32m56.5/56.5 MB\u001b[0m \u001b[31m9.5 MB/s\u001b[0m eta \u001b[36m0:00:00\u001b[0m\n",
            "\u001b[?25hCollecting nvidia-cusolver-cu12==11.4.5.107 (from torch)\n",
            "  Downloading nvidia_cusolver_cu12-11.4.5.107-py3-none-manylinux1_x86_64.whl (124.2 MB)\n",
            "\u001b[2K     \u001b[90m━━━━━━━━━━━━━━━━━━━━━━━━━━━━━━━━━━━━━━━━\u001b[0m \u001b[32m124.2/124.2 MB\u001b[0m \u001b[31m6.1 MB/s\u001b[0m eta \u001b[36m0:00:00\u001b[0m\n",
            "\u001b[?25hCollecting nvidia-cusparse-cu12==12.1.0.106 (from torch)\n",
            "  Downloading nvidia_cusparse_cu12-12.1.0.106-py3-none-manylinux1_x86_64.whl (196.0 MB)\n",
            "\u001b[2K     \u001b[90m━━━━━━━━━━━━━━━━━━━━━━━━━━━━━━━━━━━━━━━━\u001b[0m \u001b[32m196.0/196.0 MB\u001b[0m \u001b[31m2.9 MB/s\u001b[0m eta \u001b[36m0:00:00\u001b[0m\n",
            "\u001b[?25hCollecting nvidia-nccl-cu12==2.18.1 (from torch)\n",
            "  Downloading nvidia_nccl_cu12-2.18.1-py3-none-manylinux1_x86_64.whl (209.8 MB)\n",
            "\u001b[2K     \u001b[90m━━━━━━━━━━━━━━━━━━━━━━━━━━━━━━━━━━━━━━━━\u001b[0m \u001b[32m209.8/209.8 MB\u001b[0m \u001b[31m4.9 MB/s\u001b[0m eta \u001b[36m0:00:00\u001b[0m\n",
            "\u001b[?25hCollecting nvidia-nvtx-cu12==12.1.105 (from torch)\n",
            "  Downloading nvidia_nvtx_cu12-12.1.105-py3-none-manylinux1_x86_64.whl (99 kB)\n",
            "\u001b[2K     \u001b[90m━━━━━━━━━━━━━━━━━━━━━━━━━━━━━━━━━━━━━━━━\u001b[0m \u001b[32m99.1/99.1 kB\u001b[0m \u001b[31m9.6 MB/s\u001b[0m eta \u001b[36m0:00:00\u001b[0m\n",
            "\u001b[?25hRequirement already satisfied: triton==2.1.0 in /usr/local/lib/python3.10/dist-packages (from torch) (2.1.0)\n",
            "Collecting nvidia-nvjitlink-cu12 (from nvidia-cusolver-cu12==11.4.5.107->torch)\n",
            "  Downloading nvidia_nvjitlink_cu12-12.3.101-py3-none-manylinux1_x86_64.whl (20.5 MB)\n",
            "\u001b[2K     \u001b[90m━━━━━━━━━━━━━━━━━━━━━━━━━━━━━━━━━━━━━━━━\u001b[0m \u001b[32m20.5/20.5 MB\u001b[0m \u001b[31m32.5 MB/s\u001b[0m eta \u001b[36m0:00:00\u001b[0m\n",
            "\u001b[?25hRequirement already satisfied: numpy in /usr/local/lib/python3.10/dist-packages (from torchvision) (1.23.5)\n",
            "Requirement already satisfied: requests in /usr/local/lib/python3.10/dist-packages (from torchvision) (2.31.0)\n",
            "Requirement already satisfied: pillow!=8.3.*,>=5.3.0 in /usr/local/lib/python3.10/dist-packages (from torchvision) (9.4.0)\n",
            "Requirement already satisfied: MarkupSafe>=2.0 in /usr/local/lib/python3.10/dist-packages (from jinja2->torch) (2.1.3)\n",
            "Requirement already satisfied: charset-normalizer<4,>=2 in /usr/local/lib/python3.10/dist-packages (from requests->torchvision) (3.3.2)\n",
            "Requirement already satisfied: idna<4,>=2.5 in /usr/local/lib/python3.10/dist-packages (from requests->torchvision) (3.6)\n",
            "Requirement already satisfied: urllib3<3,>=1.21.1 in /usr/local/lib/python3.10/dist-packages (from requests->torchvision) (2.0.7)\n",
            "Requirement already satisfied: certifi>=2017.4.17 in /usr/local/lib/python3.10/dist-packages (from requests->torchvision) (2023.11.17)\n",
            "Requirement already satisfied: mpmath>=0.19 in /usr/local/lib/python3.10/dist-packages (from sympy->torch) (1.3.0)\n",
            "Installing collected packages: nvidia-nvtx-cu12, nvidia-nvjitlink-cu12, nvidia-nccl-cu12, nvidia-curand-cu12, nvidia-cufft-cu12, nvidia-cuda-runtime-cu12, nvidia-cuda-nvrtc-cu12, nvidia-cuda-cupti-cu12, nvidia-cublas-cu12, nvidia-cusparse-cu12, nvidia-cudnn-cu12, nvidia-cusolver-cu12, torch, torchvision\n",
            "  Attempting uninstall: torch\n",
            "    Found existing installation: torch 2.1.0+cu121\n",
            "    Uninstalling torch-2.1.0+cu121:\n",
            "      Successfully uninstalled torch-2.1.0+cu121\n",
            "  Attempting uninstall: torchvision\n",
            "    Found existing installation: torchvision 0.16.0+cu121\n",
            "    Uninstalling torchvision-0.16.0+cu121:\n",
            "      Successfully uninstalled torchvision-0.16.0+cu121\n",
            "\u001b[31mERROR: pip's dependency resolver does not currently take into account all the packages that are installed. This behaviour is the source of the following dependency conflicts.\n",
            "torchaudio 2.1.0+cu121 requires torch==2.1.0, but you have torch 2.1.2 which is incompatible.\n",
            "torchdata 0.7.0 requires torch==2.1.0, but you have torch 2.1.2 which is incompatible.\n",
            "torchtext 0.16.0 requires torch==2.1.0, but you have torch 2.1.2 which is incompatible.\u001b[0m\u001b[31m\n",
            "\u001b[0mSuccessfully installed nvidia-cublas-cu12-12.1.3.1 nvidia-cuda-cupti-cu12-12.1.105 nvidia-cuda-nvrtc-cu12-12.1.105 nvidia-cuda-runtime-cu12-12.1.105 nvidia-cudnn-cu12-8.9.2.26 nvidia-cufft-cu12-11.0.2.54 nvidia-curand-cu12-10.3.2.106 nvidia-cusolver-cu12-11.4.5.107 nvidia-cusparse-cu12-12.1.0.106 nvidia-nccl-cu12-2.18.1 nvidia-nvjitlink-cu12-12.3.101 nvidia-nvtx-cu12-12.1.105 torch-2.1.2 torchvision-0.16.2\n"
          ]
        },
        {
          "output_type": "display_data",
          "data": {
            "application/vnd.colab-display-data+json": {
              "pip_warning": {
                "packages": [
                  "torch",
                  "torchgen",
                  "torchvision"
                ]
              }
            }
          },
          "metadata": {}
        },
        {
          "output_type": "stream",
          "name": "stdout",
          "text": [
            "Collecting git+https://github.com/openai/CLIP.git\n",
            "  Cloning https://github.com/openai/CLIP.git to /tmp/pip-req-build-hzuio4xo\n",
            "  Running command git clone --filter=blob:none --quiet https://github.com/openai/CLIP.git /tmp/pip-req-build-hzuio4xo\n",
            "  Resolved https://github.com/openai/CLIP.git to commit a1d071733d7111c9c014f024669f959182114e33\n",
            "  Preparing metadata (setup.py) ... \u001b[?25l\u001b[?25hdone\n",
            "Requirement already satisfied: ftfy in /usr/local/lib/python3.10/dist-packages (from clip==1.0) (6.1.3)\n",
            "Requirement already satisfied: regex in /usr/local/lib/python3.10/dist-packages (from clip==1.0) (2023.6.3)\n",
            "Requirement already satisfied: tqdm in /usr/local/lib/python3.10/dist-packages (from clip==1.0) (4.66.1)\n",
            "Requirement already satisfied: torch in /usr/local/lib/python3.10/dist-packages (from clip==1.0) (2.1.2)\n",
            "Requirement already satisfied: torchvision in /usr/local/lib/python3.10/dist-packages (from clip==1.0) (0.16.2)\n",
            "Requirement already satisfied: wcwidth<0.3.0,>=0.2.12 in /usr/local/lib/python3.10/dist-packages (from ftfy->clip==1.0) (0.2.12)\n",
            "Requirement already satisfied: filelock in /usr/local/lib/python3.10/dist-packages (from torch->clip==1.0) (3.13.1)\n",
            "Requirement already satisfied: typing-extensions in /usr/local/lib/python3.10/dist-packages (from torch->clip==1.0) (4.5.0)\n",
            "Requirement already satisfied: sympy in /usr/local/lib/python3.10/dist-packages (from torch->clip==1.0) (1.12)\n",
            "Requirement already satisfied: networkx in /usr/local/lib/python3.10/dist-packages (from torch->clip==1.0) (3.2.1)\n",
            "Requirement already satisfied: jinja2 in /usr/local/lib/python3.10/dist-packages (from torch->clip==1.0) (3.1.2)\n",
            "Requirement already satisfied: fsspec in /usr/local/lib/python3.10/dist-packages (from torch->clip==1.0) (2023.6.0)\n",
            "Requirement already satisfied: nvidia-cuda-nvrtc-cu12==12.1.105 in /usr/local/lib/python3.10/dist-packages (from torch->clip==1.0) (12.1.105)\n",
            "Requirement already satisfied: nvidia-cuda-runtime-cu12==12.1.105 in /usr/local/lib/python3.10/dist-packages (from torch->clip==1.0) (12.1.105)\n",
            "Requirement already satisfied: nvidia-cuda-cupti-cu12==12.1.105 in /usr/local/lib/python3.10/dist-packages (from torch->clip==1.0) (12.1.105)\n",
            "Requirement already satisfied: nvidia-cudnn-cu12==8.9.2.26 in /usr/local/lib/python3.10/dist-packages (from torch->clip==1.0) (8.9.2.26)\n",
            "Requirement already satisfied: nvidia-cublas-cu12==12.1.3.1 in /usr/local/lib/python3.10/dist-packages (from torch->clip==1.0) (12.1.3.1)\n",
            "Requirement already satisfied: nvidia-cufft-cu12==11.0.2.54 in /usr/local/lib/python3.10/dist-packages (from torch->clip==1.0) (11.0.2.54)\n",
            "Requirement already satisfied: nvidia-curand-cu12==10.3.2.106 in /usr/local/lib/python3.10/dist-packages (from torch->clip==1.0) (10.3.2.106)\n",
            "Requirement already satisfied: nvidia-cusolver-cu12==11.4.5.107 in /usr/local/lib/python3.10/dist-packages (from torch->clip==1.0) (11.4.5.107)\n",
            "Requirement already satisfied: nvidia-cusparse-cu12==12.1.0.106 in /usr/local/lib/python3.10/dist-packages (from torch->clip==1.0) (12.1.0.106)\n",
            "Requirement already satisfied: nvidia-nccl-cu12==2.18.1 in /usr/local/lib/python3.10/dist-packages (from torch->clip==1.0) (2.18.1)\n",
            "Requirement already satisfied: nvidia-nvtx-cu12==12.1.105 in /usr/local/lib/python3.10/dist-packages (from torch->clip==1.0) (12.1.105)\n",
            "Requirement already satisfied: triton==2.1.0 in /usr/local/lib/python3.10/dist-packages (from torch->clip==1.0) (2.1.0)\n",
            "Requirement already satisfied: nvidia-nvjitlink-cu12 in /usr/local/lib/python3.10/dist-packages (from nvidia-cusolver-cu12==11.4.5.107->torch->clip==1.0) (12.3.101)\n",
            "Requirement already satisfied: numpy in /usr/local/lib/python3.10/dist-packages (from torchvision->clip==1.0) (1.23.5)\n",
            "Requirement already satisfied: requests in /usr/local/lib/python3.10/dist-packages (from torchvision->clip==1.0) (2.31.0)\n",
            "Requirement already satisfied: pillow!=8.3.*,>=5.3.0 in /usr/local/lib/python3.10/dist-packages (from torchvision->clip==1.0) (9.4.0)\n",
            "Requirement already satisfied: MarkupSafe>=2.0 in /usr/local/lib/python3.10/dist-packages (from jinja2->torch->clip==1.0) (2.1.3)\n",
            "Requirement already satisfied: charset-normalizer<4,>=2 in /usr/local/lib/python3.10/dist-packages (from requests->torchvision->clip==1.0) (3.3.2)\n",
            "Requirement already satisfied: idna<4,>=2.5 in /usr/local/lib/python3.10/dist-packages (from requests->torchvision->clip==1.0) (3.6)\n",
            "Requirement already satisfied: urllib3<3,>=1.21.1 in /usr/local/lib/python3.10/dist-packages (from requests->torchvision->clip==1.0) (2.0.7)\n",
            "Requirement already satisfied: certifi>=2017.4.17 in /usr/local/lib/python3.10/dist-packages (from requests->torchvision->clip==1.0) (2023.11.17)\n",
            "Requirement already satisfied: mpmath>=0.19 in /usr/local/lib/python3.10/dist-packages (from sympy->torch->clip==1.0) (1.3.0)\n"
          ]
        }
      ]
    },
    {
      "cell_type": "code",
      "source": [
        "import torch\n",
        "import clip\n",
        "from PIL import Image\n",
        "\n",
        "def get_clip_score(image_path, text):\n",
        "# Load the pre-trained CLIP model and the image\n",
        "  model, preprocess = clip.load('ViT-B/32')\n",
        "  image = Image.open(image_path)\n",
        "\n",
        "  # Preprocess the image and tokenize the text\n",
        "  image_input = preprocess(image).unsqueeze(0)\n",
        "  text_input = clip.tokenize([text])\n",
        "\n",
        "  # Move the inputs to GPU if available\n",
        "  device = \"cuda\" if torch.cuda.is_available() else \"cpu\"\n",
        "  image_input = image_input.to(device)\n",
        "  text_input = text_input.to(device)\n",
        "  model = model.to(device)\n",
        "\n",
        "  # Generate embeddings for the image and text\n",
        "  with torch.no_grad():\n",
        "      image_features = model.encode_image(image_input)\n",
        "      text_features = model.encode_text(text_input)\n",
        "\n",
        "  # Normalize the features\n",
        "  image_features = image_features / image_features.norm(dim=-1, keepdim=True)\n",
        "  text_features = text_features / text_features.norm(dim=-1, keepdim=True)\n",
        "\n",
        "  # Calculate the cosine similarity to get the CLIP score\n",
        "  clip_score = torch.matmul(image_features, text_features.T).item()\n",
        "\n",
        "  return clip_score\n"
      ],
      "metadata": {
        "id": "v4Mr0i2xzVtn"
      },
      "execution_count": null,
      "outputs": []
    },
    {
      "cell_type": "code",
      "source": [
        "import csv\n",
        "from natsort import natsorted\n",
        "\n",
        "# Define the folder containing images and the list of texts\n",
        "image_folder = \"/content/drive/MyDrive/스모어톡/프리렌서/배경제거/nukki_test/output_matte_anything_samhq\"\n",
        "text_list = [\"a rubik's code and a tree\",\n",
        "'a robot in the middle',\n",
        "'a cartoon character in the middle',\n",
        "'a cartoon character in the middle2',\n",
        "'a cartoon character in the middle3',\n",
        "'a cartoon character in the middle4',\n",
        "'a white disc on the floor',\n",
        "\"a Rubik's cube\",\n",
        "'a plate of port food in the middle',\n",
        "'a cute fairtale in the middle1',\n",
        "'a yellow sofa in the middle',\n",
        "'a snowman with the purple scarf1',\n",
        "'a snowman with the purple scarf2',\n",
        "'a chair in the middle',\n",
        "'a present in the middle',\n",
        "'a cake in the middle']\n",
        "\n",
        "csv_filename = '/content/drive/MyDrive/스모어톡/프리렌서/배경제거/nukki_test_etc/matte_any_samhq_clip.csv'  # Name of the CSV file\n",
        "clip_scr = []  # List to store CLIP scores\n",
        "\n",
        "# Pair each image with corresponding text  ,natsorted(files)\n",
        "for image_path, text in zip(natsorted(os.listdir(image_folder)), text_list):\n",
        "    print(\"image:\",image_path)\n",
        "    print(\"text:\",text)\n",
        "    if image_path.endswith(\".png\"):  # Ensure the file is a PNG image\n",
        "        image_path = os.path.join(image_folder, image_path)\n",
        "        score = get_clip_score(image_path, text)\n",
        "        clip_scr.append([image_path, text, score])\n",
        "\n",
        "# Write the data to a CSV file\n",
        "with open(csv_filename, 'w', newline='') as csvfile:\n",
        "    writer = csv.writer(csvfile)\n",
        "    writer.writerow(['Image Path', 'Text', 'CLIP Score'])  # Write header\n",
        "    for row in clip_scr:\n",
        "        writer.writerow(row)\n",
        "\n",
        "print(f'Data has been saved to {csv_filename}')"
      ],
      "metadata": {
        "colab": {
          "base_uri": "https://localhost:8080/"
        },
        "id": "p4UMr6XgzVxU",
        "outputId": "8b5ef2a2-bd20-4883-e159-bdd232dbd0fe"
      },
      "execution_count": null,
      "outputs": [
        {
          "output_type": "stream",
          "name": "stdout",
          "text": [
            "image: A Rubik's Cube, with Earth intricately drawn on each face, which is not solved yet, placed on a clean white background.png\n",
            "text: a rubik's code and a tree\n",
            "image: A robot standing front view, photo by wes anderson-ai-generated-flamel.png\n",
            "text: a robot in the middle\n",
            "image: a cartoon character holding a spoon with a scoop of ice cream in it(1).png\n",
            "text: a cartoon character in the middle\n",
            "image: a cartoon character holding a spoon with a scoop of ice cream in it(2).png\n",
            "text: a cartoon character in the middle2\n",
            "image: a cartoon character holding a spoon with a scoop of ice cream in it(3).png\n",
            "text: a cartoon character in the middle3\n",
            "image: a cartoon character holding a spoon with a scoop of ice cream in it.png\n",
            "text: a cartoon character in the middle4\n",
            "image: a white disc on the floor.png\n",
            "text: a white disc on the floor\n",
            "image: an image of a Rubik's Cube.png\n",
            "text: a Rubik's cube\n",
            "image: 경양식 돈까스-ai-generated-flamel.png\n",
            "text: a plate of port food in the middle\n",
            "image: 귀여운 보라색 요정-ai-generated-flamel.png\n",
            "text: a cute fairtale in the middle1\n",
            "image: 노란색 귀여운 소파-ai-generated-flamel.png\n",
            "text: a yellow sofa in the middle\n",
            "image: 보라색 목도리를 한 귀여운 눈사람 캐릭터.png\n",
            "text: a snowman with the purple scarf1\n",
            "image: 보라색 목도리를 한 귀여운 눈사람-ai-generated-flamel.png\n",
            "text: a snowman with the purple scarf2\n",
            "image: 빈티지한 의자-ai-generated-flamel.png\n",
            "text: a chair in the middle\n",
            "image: 초록색 반짝이는 포장지로 싸이고 빨간색 끈으로 리본이 묶인 선물 박스-ai-generated-flamel.png\n",
            "text: a present in the middle\n",
            "image: 크리스마스 케익-ai-generated-flamel.png\n",
            "text: a cake in the middle\n",
            "Data has been saved to /content/drive/MyDrive/스모어톡/프리렌서/배경제거/nukki_test_etc/matte_any_samhq_clip.csv\n"
          ]
        }
      ]
    },
    {
      "cell_type": "code",
      "source": [],
      "metadata": {
        "id": "xfIMDZsUzWP7"
      },
      "execution_count": null,
      "outputs": []
    }
  ]
}