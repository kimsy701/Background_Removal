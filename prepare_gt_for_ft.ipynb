{
  "nbformat": 4,
  "nbformat_minor": 0,
  "metadata": {
    "colab": {
      "provenance": [],
      "gpuType": "T4"
    },
    "kernelspec": {
      "name": "python3",
      "display_name": "Python 3"
    },
    "language_info": {
      "name": "python"
    },
    "accelerator": "GPU"
  },
  "cells": [
    {
      "cell_type": "markdown",
      "source": [
        "## Prepare groundtruth image for finetuning"
      ],
      "metadata": {
        "id": "k7ROL8-GdIBn"
      }
    },
    {
      "cell_type": "markdown",
      "source": [
        "참고: https://github.com/danielgatis/rembg/issues/193#issuecomment-1055534289"
      ],
      "metadata": {
        "id": "WX6O88UIgfB7"
      }
    },
    {
      "cell_type": "code",
      "source": [
        "#when using google colab, run this code\n",
        "\"\"\"\n",
        "from google.colab import drive\n",
        "drive.mount('/content/drive')\n",
        "\"\"\""
      ],
      "metadata": {
        "colab": {
          "base_uri": "https://localhost:8080/"
        },
        "id": "I5Qc0_M1gdTp",
        "outputId": "65e8e4f5-57e9-4699-ec9b-8e5ee1d6f1c3"
      },
      "execution_count": 1,
      "outputs": [
        {
          "output_type": "stream",
          "name": "stdout",
          "text": [
            "Mounted at /content/drive\n"
          ]
        }
      ]
    },
    {
      "cell_type": "code",
      "source": [
        "import os\n",
        "os.chdir('/content/drive/MyDrive/rembg-main')"
      ],
      "metadata": {
        "id": "-b7_6DFkfsDS"
      },
      "execution_count": 4,
      "outputs": []
    },
    {
      "cell_type": "markdown",
      "source": [
        "1. prepare training dataset(background-removed picture to mask)\n",
        "배경=0, 물체=1"
      ],
      "metadata": {
        "id": "ZYBMWUrZoRMM"
      }
    },
    {
      "cell_type": "code",
      "source": [
        "import cv2\n",
        "import numpy as np\n",
        "from google.colab.patches import cv2_imshow\n",
        "\n",
        "# Load the background-removed image\n",
        "\n",
        "removed_img_names = os.listdir(\"put input folder path\") #to get the name of each \"background-removed\" images for the masks, put input folder path\n",
        "\n",
        "removed_path1 = \"put input folder path\" #put folder path where the input images are saved\n",
        "removed_images_path = os.listdir(removed_path1)\n",
        "removed_files = [removed for removed in removed_images_path if removed.lower().endswith((\".jpg\", \".png\", \".jpeg\", \".gif\"))]\n",
        "\n",
        "for i,removed in enumerate(removed_files):\n",
        "\n",
        "  removed_path = os.path.join(removed_path1, removed)\n",
        "\n",
        "  try:\n",
        "\n",
        "    # Check if the image has an alpha channel (transparency)\n",
        "    removed_image = cv2.imread(removed_path, cv2.IMREAD_UNCHANGED)\n",
        "\n",
        "    if removed_image.shape[2] == 4:\n",
        "        # Extract the alpha channel (transparency channel)\n",
        "        alpha_channel = removed_image[:, :, 3]\n",
        "\n",
        "        # Thresholding to create a binary mask (adjust the threshold value as needed)\n",
        "        threshold_value = 128\n",
        "        binary_mask = (alpha_channel > threshold_value).astype(np.uint8)\n",
        "\n",
        "\n",
        "        # Save the binary mask as an image\n",
        "        # Use glob to get a list of image files in the directory (supports pattern matching)\n",
        "        image_file_path = os.path.join(\"put output folder path\", removed_img_names[i])  # You can adjust the file extension as needed\n",
        "\n",
        "\n",
        "        cv2.imwrite(image_file_path, binary_mask * 255)\n",
        "\n",
        "        # Display or use the binary mask as needed\n",
        "        #cv2_imshow( binary_mask * 255)\n",
        "        #cv2.waitKey(0)\n",
        "        #cv2.destroyAllWindows()\n",
        "\n",
        "    else:\n",
        "        print(\"The input image does not have an alpha channel (transparency).\")\n",
        "  except Exception as e:\n",
        "        print(f\"An error occurred while processing {removed}: {e}\")\n",
        "\n",
        "  #save to finetune_groundtruth folder!\n"
      ],
      "metadata": {
        "id": "m7Ynv1n0oXGc",
        "colab": {
          "base_uri": "https://localhost:8080/"
        },
        "outputId": "486c03b8-c611-4f70-875a-4e5de60e46c6"
      },
      "execution_count": 30,
      "outputs": [
        {
          "output_type": "stream",
          "name": "stdout",
          "text": [
            "/content/drive/MyDrive/rembg-main/calc_IoU/groundtruth_output/.ipynb_checkpoints\n",
            "An error occurred while processing steak.png: OpenCV(4.8.0) /io/opencv/modules/imgcodecs/src/loadsave.cpp:696: error: (-2:Unspecified error) could not find a writer for the specified extension in function 'imwrite_'\n",
            "\n",
            "/content/drive/MyDrive/rembg-main/calc_IoU/groundtruth_output/Image alchemist, pretty and expressive.png\n",
            "/content/drive/MyDrive/rembg-main/calc_IoU/groundtruth_output/a girl holding a sign.png\n",
            "/content/drive/MyDrive/rembg-main/calc_IoU/groundtruth_output/a girl holding a sign2.png\n",
            "/content/drive/MyDrive/rembg-main/calc_IoU/groundtruth_output/a woman.png\n",
            "/content/drive/MyDrive/rembg-main/calc_IoU/groundtruth_output/barbie_woman.png\n",
            "/content/drive/MyDrive/rembg-main/calc_IoU/groundtruth_output/bed1.png\n",
            "/content/drive/MyDrive/rembg-main/calc_IoU/groundtruth_output/bed2.png\n",
            "/content/drive/MyDrive/rembg-main/calc_IoU/groundtruth_output/bed3.png\n",
            "/content/drive/MyDrive/rembg-main/calc_IoU/groundtruth_output/bed4.png\n",
            "/content/drive/MyDrive/rembg-main/calc_IoU/groundtruth_output/bed5.png\n",
            "/content/drive/MyDrive/rembg-main/calc_IoU/groundtruth_output/bed6.png\n",
            "/content/drive/MyDrive/rembg-main/calc_IoU/groundtruth_output/bed7.png\n",
            "/content/drive/MyDrive/rembg-main/calc_IoU/groundtruth_output/bed8.png\n",
            "/content/drive/MyDrive/rembg-main/calc_IoU/groundtruth_output/businessman.png\n",
            "/content/drive/MyDrive/rembg-main/calc_IoU/groundtruth_output/businessman2.png\n",
            "/content/drive/MyDrive/rembg-main/calc_IoU/groundtruth_output/businessman3.png\n",
            "/content/drive/MyDrive/rembg-main/calc_IoU/groundtruth_output/campu2.png\n",
            "/content/drive/MyDrive/rembg-main/calc_IoU/groundtruth_output/campus.png\n",
            "/content/drive/MyDrive/rembg-main/calc_IoU/groundtruth_output/campus3.png\n",
            "/content/drive/MyDrive/rembg-main/calc_IoU/groundtruth_output/campus4.png\n",
            "/content/drive/MyDrive/rembg-main/calc_IoU/groundtruth_output/cat.png\n",
            "/content/drive/MyDrive/rembg-main/calc_IoU/groundtruth_output/cheering.png\n",
            "/content/drive/MyDrive/rembg-main/calc_IoU/groundtruth_output/fall park.png\n",
            "/content/drive/MyDrive/rembg-main/calc_IoU/groundtruth_output/fall.png\n",
            "/content/drive/MyDrive/rembg-main/calc_IoU/groundtruth_output/fastfood_restaurant.png\n",
            "/content/drive/MyDrive/rembg-main/calc_IoU/groundtruth_output/gallery 10.png\n",
            "/content/drive/MyDrive/rembg-main/calc_IoU/groundtruth_output/gallery 5.png\n",
            "/content/drive/MyDrive/rembg-main/calc_IoU/groundtruth_output/gallery 8.png\n",
            "/content/drive/MyDrive/rembg-main/calc_IoU/groundtruth_output/gallery 9.png\n",
            "/content/drive/MyDrive/rembg-main/calc_IoU/groundtruth_output/gallery.png\n",
            "/content/drive/MyDrive/rembg-main/calc_IoU/groundtruth_output/gallery11.png\n",
            "/content/drive/MyDrive/rembg-main/calc_IoU/groundtruth_output/gallery13.png\n",
            "/content/drive/MyDrive/rembg-main/calc_IoU/groundtruth_output/gallery14.png\n",
            "/content/drive/MyDrive/rembg-main/calc_IoU/groundtruth_output/gallery15.png\n",
            "/content/drive/MyDrive/rembg-main/calc_IoU/groundtruth_output/gallery2.png\n",
            "/content/drive/MyDrive/rembg-main/calc_IoU/groundtruth_output/gallery4.png\n",
            "/content/drive/MyDrive/rembg-main/calc_IoU/groundtruth_output/gallery6.png\n",
            "/content/drive/MyDrive/rembg-main/calc_IoU/groundtruth_output/gallery7.png\n",
            "/content/drive/MyDrive/rembg-main/calc_IoU/groundtruth_output/girl sitting.png\n",
            "/content/drive/MyDrive/rembg-main/calc_IoU/groundtruth_output/hot air balloon.png\n",
            "/content/drive/MyDrive/rembg-main/calc_IoU/groundtruth_output/male_dog.png\n",
            "/content/drive/MyDrive/rembg-main/calc_IoU/groundtruth_output/man.png\n",
            "/content/drive/MyDrive/rembg-main/calc_IoU/groundtruth_output/medal.png\n",
            "/content/drive/MyDrive/rembg-main/calc_IoU/groundtruth_output/mice.png\n",
            "/content/drive/MyDrive/rembg-main/calc_IoU/groundtruth_output/pandasign.png\n",
            "/content/drive/MyDrive/rembg-main/calc_IoU/groundtruth_output/park view.png\n",
            "/content/drive/MyDrive/rembg-main/calc_IoU/groundtruth_output/pink_ribbon_girl.png\n",
            "/content/drive/MyDrive/rembg-main/calc_IoU/groundtruth_output/pumpkins.png\n",
            "/content/drive/MyDrive/rembg-main/calc_IoU/groundtruth_output/pumpkins2.png\n",
            "/content/drive/MyDrive/rembg-main/calc_IoU/groundtruth_output/shopping mall 4.png\n",
            "/content/drive/MyDrive/rembg-main/calc_IoU/groundtruth_output/shopping mall 5.png\n",
            "/content/drive/MyDrive/rembg-main/calc_IoU/groundtruth_output/shopping mall.png\n",
            "/content/drive/MyDrive/rembg-main/calc_IoU/groundtruth_output/shopping mall2.png\n",
            "/content/drive/MyDrive/rembg-main/calc_IoU/groundtruth_output/sofa2.png\n",
            "/content/drive/MyDrive/rembg-main/calc_IoU/groundtruth_output/sofa3.png\n",
            "/content/drive/MyDrive/rembg-main/calc_IoU/groundtruth_output/sofa4.png\n",
            "/content/drive/MyDrive/rembg-main/calc_IoU/groundtruth_output/sofa5.png\n",
            "/content/drive/MyDrive/rembg-main/calc_IoU/groundtruth_output/sofa6.png\n",
            "/content/drive/MyDrive/rembg-main/calc_IoU/groundtruth_output/sofa7.png\n",
            "/content/drive/MyDrive/rembg-main/calc_IoU/groundtruth_output/sofa8.png\n",
            "/content/drive/MyDrive/rembg-main/calc_IoU/groundtruth_output/steak.png\n",
            "/content/drive/MyDrive/rembg-main/calc_IoU/groundtruth_output/urban_market.png\n",
            "/content/drive/MyDrive/rembg-main/calc_IoU/groundtruth_output/walkin dog.png\n",
            "/content/drive/MyDrive/rembg-main/calc_IoU/groundtruth_output/walking dog.png\n",
            "/content/drive/MyDrive/rembg-main/calc_IoU/groundtruth_output/walking dog3.png\n",
            "/content/drive/MyDrive/rembg-main/calc_IoU/groundtruth_output/walking dog4.png\n",
            "/content/drive/MyDrive/rembg-main/calc_IoU/groundtruth_output/walking dog6.png\n",
            "/content/drive/MyDrive/rembg-main/calc_IoU/groundtruth_output/woman beside tree.png\n",
            "/content/drive/MyDrive/rembg-main/calc_IoU/groundtruth_output/woman.png\n",
            "/content/drive/MyDrive/rembg-main/calc_IoU/groundtruth_output/woman2.png\n",
            "/content/drive/MyDrive/rembg-main/calc_IoU/groundtruth_output/강아지 (1).png\n",
            "/content/drive/MyDrive/rembg-main/calc_IoU/groundtruth_output/다운로드 (3).png\n",
            "/content/drive/MyDrive/rembg-main/calc_IoU/groundtruth_output/비오는날 비숑.png\n",
            "/content/drive/MyDrive/rembg-main/calc_IoU/groundtruth_output/서버실을 돌아다니는 사슴.png\n",
            "/content/drive/MyDrive/rembg-main/calc_IoU/groundtruth_output/어두운 조명의 재즈클럽, 세련된 정장을 입은 가수가 빈티지 마이크를 들고 세레나데를 부르는 모습.png\n",
            "/content/drive/MyDrive/rembg-main/calc_IoU/groundtruth_output/어두운 회의실 안, 밝은 화면, 그 옆에서 자신감 넘치는 표정으로 회의를 인도하는 발표자의 모습 (1).png\n",
            "/content/drive/MyDrive/rembg-main/calc_IoU/groundtruth_output/열려있는 상자 한 개, 열려있는 상자 한 개, 배경없음, 배경과 분리된 (1).png\n",
            "/content/drive/MyDrive/rembg-main/calc_IoU/groundtruth_output/열려있는 상자 한 개, 열려있는 상자 한 개, 배경없음, 배경과 분리된.png\n",
            "/content/drive/MyDrive/rembg-main/calc_IoU/groundtruth_output/우주를 떠도는 생각없는 나.png\n",
            "/content/drive/MyDrive/rembg-main/calc_IoU/groundtruth_output/워크샵을 끝마치고 단체 사진을 찍기 위해 포즈를 취하고 있는 모습.png\n",
            "/content/drive/MyDrive/rembg-main/calc_IoU/groundtruth_output/유니콘호랑이.png\n",
            "/content/drive/MyDrive/rembg-main/calc_IoU/groundtruth_output/유도하는 강아지 (1).png\n",
            "/content/drive/MyDrive/rembg-main/calc_IoU/groundtruth_output/유도하는 강아지.png\n",
            "/content/drive/MyDrive/rembg-main/calc_IoU/groundtruth_output/유도하는 신난 비숑.png\n",
            "/content/drive/MyDrive/rembg-main/calc_IoU/groundtruth_output/유리잔에 담긴 위스키 클로즈업.png\n",
            "/content/drive/MyDrive/rembg-main/calc_IoU/groundtruth_output/자동차 램프.png\n",
            "/content/drive/MyDrive/rembg-main/calc_IoU/groundtruth_output/자동차.png\n",
            "/content/drive/MyDrive/rembg-main/calc_IoU/groundtruth_output/재생지 A4 서류 봉투 1장.png\n",
            "/content/drive/MyDrive/rembg-main/calc_IoU/groundtruth_output/전기장판에서 귤까먹는 남자 아이 (1).png\n",
            "/content/drive/MyDrive/rembg-main/calc_IoU/groundtruth_output/전기장판에서 귤까먹는 남자 아이.png\n",
            "/content/drive/MyDrive/rembg-main/calc_IoU/groundtruth_output/좋은나라 (2).png\n",
            "/content/drive/MyDrive/rembg-main/calc_IoU/groundtruth_output/푸르른 숲속 배경에 은색 캐러밴 캡슐 (1).png\n",
            "/content/drive/MyDrive/rembg-main/calc_IoU/groundtruth_output/푸르른 숲속 배경에 은색 캐러밴 캡슐 (2).png\n",
            "/content/drive/MyDrive/rembg-main/calc_IoU/groundtruth_output/피오나 공주가 다이어트를 하는 모습 (1).png\n",
            "/content/drive/MyDrive/rembg-main/calc_IoU/groundtruth_output/피오나 공주가 다이어트를 하는 모습.png\n",
            "/content/drive/MyDrive/rembg-main/calc_IoU/groundtruth_output/피카츄 (1).png\n",
            "/content/drive/MyDrive/rembg-main/calc_IoU/groundtruth_output/피카츄.png\n",
            "/content/drive/MyDrive/rembg-main/calc_IoU/groundtruth_output/하늘에서 떨어지는 한복을 입은 남자 아기 (1).png\n",
            "/content/drive/MyDrive/rembg-main/calc_IoU/groundtruth_output/하늘에서 떨어지는 한복을 입은 남자 아기.png\n"
          ]
        }
      ]
    },
    {
      "cell_type": "code",
      "source": [],
      "metadata": {
        "id": "zi3wrfAGrm66"
      },
      "execution_count": null,
      "outputs": []
    }
  ]
}
