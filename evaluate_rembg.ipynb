{
  "nbformat": 4,
  "nbformat_minor": 0,
  "metadata": {
    "colab": {
      "provenance": []
    },
    "kernelspec": {
      "name": "python3",
      "display_name": "Python 3"
    },
    "language_info": {
      "name": "python"
    }
  },
  "cells": [
    {
      "cell_type": "code",
      "source": [
        "#when using google colab, run this code\n",
        "\"\"\"\n",
        "from google.colab import drive\n",
        "drive.mount('/content/drive')\n",
        "\"\"\""
      ],
      "metadata": {
        "colab": {
          "base_uri": "https://localhost:8080/",
          "height": 35
        },
        "id": "MoAEY_HIpeqH",
        "outputId": "915830c7-b47b-4f8e-d8d4-29c53151c129"
      },
      "execution_count": 22,
      "outputs": [
        {
          "output_type": "execute_result",
          "data": {
            "text/plain": [
              "\"\\nfrom google.colab import drive\\ndrive.mount('/content/drive')\\n\""
            ],
            "application/vnd.google.colaboratory.intrinsic+json": {
              "type": "string"
            }
          },
          "metadata": {},
          "execution_count": 22
        }
      ]
    },
    {
      "cell_type": "code",
      "source": [
        "import os\n",
        "os.chdir('/content/drive/MyDrive/rembg-main')"
      ],
      "metadata": {
        "id": "2cv-_NAOpen-"
      },
      "execution_count": 4,
      "outputs": []
    },
    {
      "cell_type": "markdown",
      "source": [
        "Evaluation of Background removal task: IoU or Jaccard Index (after finetuning, after alphamatting)\n"
      ],
      "metadata": {
        "id": "z3djuAB5m_KD"
      }
    },
    {
      "cell_type": "code",
      "source": [
        "import os\n",
        "import cv2\n",
        "import numpy as np\n",
        "\n",
        "iou_list=[]\n",
        "\n",
        "def calculate_iou(gt_path, pred_path):\n",
        "    gt_files = os.listdir(gt_path)\n",
        "    pred_files = os.listdir(pred_path)\n",
        "\n",
        "    iou_scores = []\n",
        "\n",
        "    for gt_file in gt_files:\n",
        "        if gt_file in pred_files:\n",
        "            gt_img = cv2.imread(os.path.join(gt_path, gt_file))\n",
        "            pred_img = cv2.imread(os.path.join(pred_path, gt_file))\n",
        "\n",
        "            intersection = np.logical_and(gt_img, pred_img)\n",
        "            union = np.logical_or(gt_img, pred_img)\n",
        "\n",
        "            iou = np.sum(intersection) / np.sum(union)\n",
        "            iou_scores.append(iou)\n",
        "\n",
        "    return iou_scores\n",
        "\n",
        "ground_folder = \"groundtruth image folder\"\n",
        "predicted_folder = \"predicted image folder\"\n",
        "\n",
        "iou_scores = calculate_iou(ground_folder, predicted_folder)\n",
        "print(sum(iou_scores) / len(iou_scores) )\n"
      ],
      "metadata": {
        "colab": {
          "base_uri": "https://localhost:8080/"
        },
        "id": "fZZpNkT-oBny",
        "outputId": "8ef03454-ab57-4dd8-af0e-9af88a9e5864"
      },
      "execution_count": 20,
      "outputs": [
        {
          "output_type": "stream",
          "name": "stdout",
          "text": [
            "0.2182267042087894\n"
          ]
        }
      ]
    },
    {
      "cell_type": "code",
      "source": [
        "iou_list"
      ],
      "metadata": {
        "colab": {
          "base_uri": "https://localhost:8080/"
        },
        "id": "bABAZGB7oBq4",
        "outputId": "73b54627-075e-4a35-ac9b-cd222277e54a"
      },
      "execution_count": 16,
      "outputs": [
        {
          "output_type": "execute_result",
          "data": {
            "text/plain": [
              "[]"
            ]
          },
          "metadata": {},
          "execution_count": 16
        }
      ]
    },
    {
      "cell_type": "code",
      "source": [],
      "metadata": {
        "id": "hROC48mYoBuH"
      },
      "execution_count": null,
      "outputs": []
    },
    {
      "cell_type": "markdown",
      "source": [],
      "metadata": {
        "id": "ZkOSMabDm-Hr"
      }
    }
  ]
}